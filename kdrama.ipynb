{
 "cells": [
  {
   "cell_type": "code",
   "execution_count": 1,
   "id": "2d032848",
   "metadata": {},
   "outputs": [],
   "source": [
    "import numpy as np\n",
    "import pandas as pd"
   ]
  },
  {
   "cell_type": "code",
   "execution_count": 3,
   "id": "332ed67c",
   "metadata": {},
   "outputs": [
    {
     "data": {
      "text/html": [
       "<div>\n",
       "<style scoped>\n",
       "    .dataframe tbody tr th:only-of-type {\n",
       "        vertical-align: middle;\n",
       "    }\n",
       "\n",
       "    .dataframe tbody tr th {\n",
       "        vertical-align: top;\n",
       "    }\n",
       "\n",
       "    .dataframe thead th {\n",
       "        text-align: right;\n",
       "    }\n",
       "</style>\n",
       "<table border=\"1\" class=\"dataframe\">\n",
       "  <thead>\n",
       "    <tr style=\"text-align: right;\">\n",
       "      <th></th>\n",
       "      <th>kdrama_name</th>\n",
       "      <th>actor</th>\n",
       "    </tr>\n",
       "  </thead>\n",
       "  <tbody>\n",
       "    <tr>\n",
       "      <th>0</th>\n",
       "      <td>100 Days My Prince</td>\n",
       "      <td>Doh Kyung Soo</td>\n",
       "    </tr>\n",
       "    <tr>\n",
       "      <th>1</th>\n",
       "      <td>100 Days My Prince</td>\n",
       "      <td>Nam Ji Hyun</td>\n",
       "    </tr>\n",
       "    <tr>\n",
       "      <th>2</th>\n",
       "      <td>100 Days My Prince</td>\n",
       "      <td>Kim Seon Ho</td>\n",
       "    </tr>\n",
       "    <tr>\n",
       "      <th>3</th>\n",
       "      <td>100 Days My Prince</td>\n",
       "      <td>Han So Hee</td>\n",
       "    </tr>\n",
       "    <tr>\n",
       "      <th>4</th>\n",
       "      <td>100 Days My Prince</td>\n",
       "      <td>Jo Sung Ha</td>\n",
       "    </tr>\n",
       "    <tr>\n",
       "      <th>...</th>\n",
       "      <td>...</td>\n",
       "      <td>...</td>\n",
       "    </tr>\n",
       "    <tr>\n",
       "      <th>7600</th>\n",
       "      <td>Zombie Detective</td>\n",
       "      <td>Park Ju Hyun</td>\n",
       "    </tr>\n",
       "    <tr>\n",
       "      <th>7601</th>\n",
       "      <td>Zombie Detective</td>\n",
       "      <td>Tae Hang Ho</td>\n",
       "    </tr>\n",
       "    <tr>\n",
       "      <th>7602</th>\n",
       "      <td>Zombie Detective</td>\n",
       "      <td>Lee Joong Ok</td>\n",
       "    </tr>\n",
       "    <tr>\n",
       "      <th>7603</th>\n",
       "      <td>Zombie Detective</td>\n",
       "      <td>Ahn Se Ha</td>\n",
       "    </tr>\n",
       "    <tr>\n",
       "      <th>7604</th>\n",
       "      <td>Zombie Detective</td>\n",
       "      <td>Hwang Bo Ra</td>\n",
       "    </tr>\n",
       "  </tbody>\n",
       "</table>\n",
       "<p>7605 rows × 2 columns</p>\n",
       "</div>"
      ],
      "text/plain": [
       "             kdrama_name          actor\n",
       "0     100 Days My Prince  Doh Kyung Soo\n",
       "1     100 Days My Prince    Nam Ji Hyun\n",
       "2     100 Days My Prince    Kim Seon Ho\n",
       "3     100 Days My Prince     Han So Hee\n",
       "4     100 Days My Prince     Jo Sung Ha\n",
       "...                  ...            ...\n",
       "7600    Zombie Detective   Park Ju Hyun\n",
       "7601    Zombie Detective    Tae Hang Ho\n",
       "7602    Zombie Detective   Lee Joong Ok\n",
       "7603    Zombie Detective      Ahn Se Ha\n",
       "7604    Zombie Detective    Hwang Bo Ra\n",
       "\n",
       "[7605 rows x 2 columns]"
      ]
     },
     "execution_count": 3,
     "metadata": {},
     "output_type": "execute_result"
    }
   ],
   "source": [
    "df =pd.read_csv(\"data/actors.csv\")\n",
    "df"
   ]
  },
  {
   "cell_type": "code",
   "execution_count": 4,
   "id": "2312e996",
   "metadata": {},
   "outputs": [
    {
     "data": {
      "text/plain": [
       "pandas.core.frame.DataFrame"
      ]
     },
     "execution_count": 4,
     "metadata": {},
     "output_type": "execute_result"
    }
   ],
   "source": [
    "type(df)"
   ]
  },
  {
   "cell_type": "code",
   "execution_count": 14,
   "id": "f6e7d67d",
   "metadata": {},
   "outputs": [
    {
     "data": {
      "text/html": [
       "<div>\n",
       "<style scoped>\n",
       "    .dataframe tbody tr th:only-of-type {\n",
       "        vertical-align: middle;\n",
       "    }\n",
       "\n",
       "    .dataframe tbody tr th {\n",
       "        vertical-align: top;\n",
       "    }\n",
       "\n",
       "    .dataframe thead th {\n",
       "        text-align: right;\n",
       "    }\n",
       "</style>\n",
       "<table border=\"1\" class=\"dataframe\">\n",
       "  <thead>\n",
       "    <tr style=\"text-align: right;\">\n",
       "      <th></th>\n",
       "      <th>kdrama_name</th>\n",
       "      <th>actor</th>\n",
       "    </tr>\n",
       "  </thead>\n",
       "  <tbody>\n",
       "    <tr>\n",
       "      <th>0</th>\n",
       "      <td>100 Days My Prince</td>\n",
       "      <td>Doh Kyung Soo</td>\n",
       "    </tr>\n",
       "    <tr>\n",
       "      <th>1</th>\n",
       "      <td>100 Days My Prince</td>\n",
       "      <td>Nam Ji Hyun</td>\n",
       "    </tr>\n",
       "    <tr>\n",
       "      <th>2</th>\n",
       "      <td>100 Days My Prince</td>\n",
       "      <td>Kim Seon Ho</td>\n",
       "    </tr>\n",
       "    <tr>\n",
       "      <th>3</th>\n",
       "      <td>100 Days My Prince</td>\n",
       "      <td>Han So Hee</td>\n",
       "    </tr>\n",
       "    <tr>\n",
       "      <th>4</th>\n",
       "      <td>100 Days My Prince</td>\n",
       "      <td>Jo Sung Ha</td>\n",
       "    </tr>\n",
       "    <tr>\n",
       "      <th>5</th>\n",
       "      <td>100 Days My Prince</td>\n",
       "      <td>Kim Jae Young</td>\n",
       "    </tr>\n",
       "    <tr>\n",
       "      <th>6</th>\n",
       "      <td>12 Signs of Love</td>\n",
       "      <td>Ohn Joo Wan</td>\n",
       "    </tr>\n",
       "    <tr>\n",
       "      <th>7</th>\n",
       "      <td>12 Signs of Love</td>\n",
       "      <td>Yoon Jin Seo</td>\n",
       "    </tr>\n",
       "    <tr>\n",
       "      <th>8</th>\n",
       "      <td>12 Signs of Love</td>\n",
       "      <td>Lee Yong Woo</td>\n",
       "    </tr>\n",
       "    <tr>\n",
       "      <th>9</th>\n",
       "      <td>12 Signs of Love</td>\n",
       "      <td>Bae Geu Rin</td>\n",
       "    </tr>\n",
       "    <tr>\n",
       "      <th>10</th>\n",
       "      <td>12 Signs of Love</td>\n",
       "      <td>Go Joon Hee</td>\n",
       "    </tr>\n",
       "  </tbody>\n",
       "</table>\n",
       "</div>"
      ],
      "text/plain": [
       "           kdrama_name           actor\n",
       "0   100 Days My Prince   Doh Kyung Soo\n",
       "1   100 Days My Prince     Nam Ji Hyun\n",
       "2   100 Days My Prince     Kim Seon Ho\n",
       "3   100 Days My Prince      Han So Hee\n",
       "4   100 Days My Prince      Jo Sung Ha\n",
       "5   100 Days My Prince   Kim Jae Young\n",
       "6     12 Signs of Love     Ohn Joo Wan\n",
       "7     12 Signs of Love    Yoon Jin Seo\n",
       "8     12 Signs of Love    Lee Yong Woo\n",
       "9     12 Signs of Love     Bae Geu Rin\n",
       "10    12 Signs of Love     Go Joon Hee"
      ]
     },
     "execution_count": 14,
     "metadata": {},
     "output_type": "execute_result"
    }
   ],
   "source": [
    "df1 =df.head(11)\n",
    "df1"
   ]
  },
  {
   "cell_type": "code",
   "execution_count": 15,
   "id": "5282dbc5",
   "metadata": {},
   "outputs": [
    {
     "data": {
      "text/plain": [
       "(11, 2)"
      ]
     },
     "execution_count": 15,
     "metadata": {},
     "output_type": "execute_result"
    }
   ],
   "source": [
    "df1.shape"
   ]
  },
  {
   "cell_type": "code",
   "execution_count": 24,
   "id": "f5249405",
   "metadata": {},
   "outputs": [
    {
     "name": "stderr",
     "output_type": "stream",
     "text": [
      "C:\\Users\\USER\\AppData\\Local\\Temp\\ipykernel_10040\\3096939849.py:1: SettingWithCopyWarning: \n",
      "A value is trying to be set on a copy of a slice from a DataFrame.\n",
      "Try using .loc[row_indexer,col_indexer] = value instead\n",
      "\n",
      "See the caveats in the documentation: https://pandas.pydata.org/pandas-docs/stable/user_guide/indexing.html#returning-a-view-versus-a-copy\n",
      "  df1[\"age\"] = np.arange(11)\n"
     ]
    }
   ],
   "source": [
    "df1[\"age\"] = np.arange(11)"
   ]
  },
  {
   "cell_type": "code",
   "execution_count": 28,
   "id": "961a7873",
   "metadata": {},
   "outputs": [
    {
     "name": "stderr",
     "output_type": "stream",
     "text": [
      "C:\\Users\\USER\\AppData\\Local\\Temp\\ipykernel_10040\\739991448.py:1: SettingWithCopyWarning: \n",
      "A value is trying to be set on a copy of a slice from a DataFrame.\n",
      "Try using .loc[row_indexer,col_indexer] = value instead\n",
      "\n",
      "See the caveats in the documentation: https://pandas.pydata.org/pandas-docs/stable/user_guide/indexing.html#returning-a-view-versus-a-copy\n",
      "  df1.loc[:, 'new_age'] = np.linspace(10,50,11)\n"
     ]
    }
   ],
   "source": [
    "df1.loc[:, 'new_age'] = np.linspace(10,50,11)"
   ]
  },
  {
   "cell_type": "code",
   "execution_count": 29,
   "id": "5c1a4053",
   "metadata": {},
   "outputs": [
    {
     "data": {
      "text/html": [
       "<div>\n",
       "<style scoped>\n",
       "    .dataframe tbody tr th:only-of-type {\n",
       "        vertical-align: middle;\n",
       "    }\n",
       "\n",
       "    .dataframe tbody tr th {\n",
       "        vertical-align: top;\n",
       "    }\n",
       "\n",
       "    .dataframe thead th {\n",
       "        text-align: right;\n",
       "    }\n",
       "</style>\n",
       "<table border=\"1\" class=\"dataframe\">\n",
       "  <thead>\n",
       "    <tr style=\"text-align: right;\">\n",
       "      <th></th>\n",
       "      <th>kdrama_name</th>\n",
       "      <th>actor</th>\n",
       "      <th>age</th>\n",
       "      <th>new_age</th>\n",
       "    </tr>\n",
       "  </thead>\n",
       "  <tbody>\n",
       "    <tr>\n",
       "      <th>0</th>\n",
       "      <td>100 Days My Prince</td>\n",
       "      <td>Doh Kyung Soo</td>\n",
       "      <td>0</td>\n",
       "      <td>10.0</td>\n",
       "    </tr>\n",
       "    <tr>\n",
       "      <th>1</th>\n",
       "      <td>100 Days My Prince</td>\n",
       "      <td>Nam Ji Hyun</td>\n",
       "      <td>1</td>\n",
       "      <td>14.0</td>\n",
       "    </tr>\n",
       "    <tr>\n",
       "      <th>2</th>\n",
       "      <td>100 Days My Prince</td>\n",
       "      <td>Kim Seon Ho</td>\n",
       "      <td>2</td>\n",
       "      <td>18.0</td>\n",
       "    </tr>\n",
       "    <tr>\n",
       "      <th>3</th>\n",
       "      <td>100 Days My Prince</td>\n",
       "      <td>Han So Hee</td>\n",
       "      <td>3</td>\n",
       "      <td>22.0</td>\n",
       "    </tr>\n",
       "    <tr>\n",
       "      <th>4</th>\n",
       "      <td>100 Days My Prince</td>\n",
       "      <td>Jo Sung Ha</td>\n",
       "      <td>4</td>\n",
       "      <td>26.0</td>\n",
       "    </tr>\n",
       "    <tr>\n",
       "      <th>5</th>\n",
       "      <td>100 Days My Prince</td>\n",
       "      <td>Kim Jae Young</td>\n",
       "      <td>5</td>\n",
       "      <td>30.0</td>\n",
       "    </tr>\n",
       "    <tr>\n",
       "      <th>6</th>\n",
       "      <td>12 Signs of Love</td>\n",
       "      <td>Ohn Joo Wan</td>\n",
       "      <td>6</td>\n",
       "      <td>34.0</td>\n",
       "    </tr>\n",
       "    <tr>\n",
       "      <th>7</th>\n",
       "      <td>12 Signs of Love</td>\n",
       "      <td>Yoon Jin Seo</td>\n",
       "      <td>7</td>\n",
       "      <td>38.0</td>\n",
       "    </tr>\n",
       "    <tr>\n",
       "      <th>8</th>\n",
       "      <td>12 Signs of Love</td>\n",
       "      <td>Lee Yong Woo</td>\n",
       "      <td>8</td>\n",
       "      <td>42.0</td>\n",
       "    </tr>\n",
       "    <tr>\n",
       "      <th>9</th>\n",
       "      <td>12 Signs of Love</td>\n",
       "      <td>Bae Geu Rin</td>\n",
       "      <td>9</td>\n",
       "      <td>46.0</td>\n",
       "    </tr>\n",
       "    <tr>\n",
       "      <th>10</th>\n",
       "      <td>12 Signs of Love</td>\n",
       "      <td>Go Joon Hee</td>\n",
       "      <td>10</td>\n",
       "      <td>50.0</td>\n",
       "    </tr>\n",
       "  </tbody>\n",
       "</table>\n",
       "</div>"
      ],
      "text/plain": [
       "           kdrama_name           actor  age  new_age\n",
       "0   100 Days My Prince   Doh Kyung Soo    0     10.0\n",
       "1   100 Days My Prince     Nam Ji Hyun    1     14.0\n",
       "2   100 Days My Prince     Kim Seon Ho    2     18.0\n",
       "3   100 Days My Prince      Han So Hee    3     22.0\n",
       "4   100 Days My Prince      Jo Sung Ha    4     26.0\n",
       "5   100 Days My Prince   Kim Jae Young    5     30.0\n",
       "6     12 Signs of Love     Ohn Joo Wan    6     34.0\n",
       "7     12 Signs of Love    Yoon Jin Seo    7     38.0\n",
       "8     12 Signs of Love    Lee Yong Woo    8     42.0\n",
       "9     12 Signs of Love     Bae Geu Rin    9     46.0\n",
       "10    12 Signs of Love     Go Joon Hee   10     50.0"
      ]
     },
     "execution_count": 29,
     "metadata": {},
     "output_type": "execute_result"
    }
   ],
   "source": [
    "df1"
   ]
  },
  {
   "cell_type": "code",
   "execution_count": null,
   "id": "91fe58ae",
   "metadata": {},
   "outputs": [],
   "source": []
  }
 ],
 "metadata": {
  "kernelspec": {
   "display_name": "Python 3 (ipykernel)",
   "language": "python",
   "name": "python3"
  },
  "language_info": {
   "codemirror_mode": {
    "name": "ipython",
    "version": 3
   },
   "file_extension": ".py",
   "mimetype": "text/x-python",
   "name": "python",
   "nbconvert_exporter": "python",
   "pygments_lexer": "ipython3",
   "version": "3.10.6"
  }
 },
 "nbformat": 4,
 "nbformat_minor": 5
}
