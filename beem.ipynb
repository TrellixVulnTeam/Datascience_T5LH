{
 "cells": [
  {
   "cell_type": "code",
   "execution_count": 2,
   "id": "c19151b1",
   "metadata": {},
   "outputs": [],
   "source": [
    "import numpy as np"
   ]
  },
  {
   "cell_type": "code",
   "execution_count": 5,
   "id": "3e698977",
   "metadata": {},
   "outputs": [
    {
     "data": {
      "text/plain": [
       "array([5., 5., 5., 5., 5., 5., 5., 5., 5., 5.])"
      ]
     },
     "execution_count": 5,
     "metadata": {},
     "output_type": "execute_result"
    }
   ],
   "source": [
    "np.ones(10) * 5"
   ]
  },
  {
   "cell_type": "code",
   "execution_count": 7,
   "id": "81a8c435",
   "metadata": {},
   "outputs": [
    {
     "data": {
      "text/plain": [
       "array([5., 5., 5., 5., 5., 5., 5., 5., 5., 5.])"
      ]
     },
     "execution_count": 7,
     "metadata": {},
     "output_type": "execute_result"
    }
   ],
   "source": [
    "np.zeros(10) + 5"
   ]
  },
  {
   "cell_type": "code",
   "execution_count": 8,
   "id": "9ea2fd48",
   "metadata": {},
   "outputs": [
    {
     "data": {
      "text/plain": [
       "array([[0, 1, 2],\n",
       "       [3, 4, 5],\n",
       "       [6, 7, 8]])"
      ]
     },
     "execution_count": 8,
     "metadata": {},
     "output_type": "execute_result"
    }
   ],
   "source": [
    "np.arange(9).reshape(3,3)"
   ]
  },
  {
   "cell_type": "code",
   "execution_count": 9,
   "id": "a6dfc3ce",
   "metadata": {},
   "outputs": [
    {
     "data": {
      "text/plain": [
       "array([[1., 0., 0.],\n",
       "       [0., 1., 0.],\n",
       "       [0., 0., 1.]])"
      ]
     },
     "execution_count": 9,
     "metadata": {},
     "output_type": "execute_result"
    }
   ],
   "source": [
    "np.eye(3)"
   ]
  },
  {
   "cell_type": "code",
   "execution_count": 10,
   "id": "2c0c740d",
   "metadata": {},
   "outputs": [
    {
     "data": {
      "text/plain": [
       "array([0.56402865])"
      ]
     },
     "execution_count": 10,
     "metadata": {},
     "output_type": "execute_result"
    }
   ],
   "source": [
    "np.random.rand(1)"
   ]
  },
  {
   "cell_type": "code",
   "execution_count": 23,
   "id": "c17a5601",
   "metadata": {},
   "outputs": [
    {
     "data": {
      "text/plain": [
       "array([[11, 12, 13, 14, 15],\n",
       "       [16, 17, 18, 19, 20],\n",
       "       [21, 22, 23, 24, 25]])"
      ]
     },
     "execution_count": 23,
     "metadata": {},
     "output_type": "execute_result"
    }
   ],
   "source": [
    "mak = np.arange(11,26).reshape(3,5)\n",
    "mak"
   ]
  },
  {
   "cell_type": "code",
   "execution_count": 25,
   "id": "b6ba9f88",
   "metadata": {},
   "outputs": [
    {
     "data": {
      "text/plain": [
       "array([[21, 22]])"
      ]
     },
     "execution_count": 25,
     "metadata": {},
     "output_type": "execute_result"
    }
   ],
   "source": [
    "mak[2:,:2]"
   ]
  },
  {
   "cell_type": "code",
   "execution_count": 32,
   "id": "6a551214",
   "metadata": {},
   "outputs": [],
   "source": [
    "import numpy as np"
   ]
  },
  {
   "cell_type": "code",
   "execution_count": 38,
   "id": "724409b0",
   "metadata": {},
   "outputs": [
    {
     "data": {
      "text/plain": [
       "array([10, 11, 12, 13, 14, 15, 16, 17, 18, 19, 20, 21, 22, 23, 24, 25, 26,\n",
       "       27, 28, 29, 30, 31, 32, 33, 34, 35, 36, 37, 38, 39, 40, 41, 42, 43,\n",
       "       44, 45, 46, 47, 48, 49, 50])"
      ]
     },
     "execution_count": 38,
     "metadata": {},
     "output_type": "execute_result"
    }
   ],
   "source": [
    "pap = np.arange(10,51)\n",
    "pap"
   ]
  },
  {
   "cell_type": "code",
   "execution_count": 49,
   "id": "c01d179a",
   "metadata": {},
   "outputs": [
    {
     "data": {
      "text/plain": [
       "array([  10,  121,   12,  169,   14,  225,   16,  289,   18,  361,   20,\n",
       "        441,   22,  529,   24,  625,   26,  729,   28,  841,   30,  961,\n",
       "         32, 1089,   34, 1225,   36, 1369,   38, 1521,   40, 1681,   42,\n",
       "       1849,   44, 2025,   46, 2209,   48, 2401,   50])"
      ]
     },
     "execution_count": 49,
     "metadata": {},
     "output_type": "execute_result"
    }
   ],
   "source": [
    "np.where(pap%2==0,pap,pap**2)"
   ]
  },
  {
   "cell_type": "code",
   "execution_count": 52,
   "id": "433fd668",
   "metadata": {},
   "outputs": [
    {
     "data": {
      "text/plain": [
       "array([10,  0, 12,  0, 14,  0, 16,  0, 18,  0, 20,  0, 22,  0, 24,  0, 26,\n",
       "        0, 28,  0, 30,  0, 32,  0, 34,  0, 36,  0, 38,  0, 40,  0, 42,  0,\n",
       "       44,  0, 46,  0, 48,  0, 50])"
      ]
     },
     "execution_count": 52,
     "metadata": {},
     "output_type": "execute_result"
    }
   ],
   "source": [
    "np.where(pap%2==0,pap,0)"
   ]
  },
  {
   "cell_type": "code",
   "execution_count": 53,
   "id": "46151630",
   "metadata": {},
   "outputs": [
    {
     "data": {
      "text/plain": [
       "array([ 0, 11,  0, 13,  0, 15,  0, 17,  0, 19,  0, 21,  0, 23,  0, 25,  0,\n",
       "       27,  0, 29,  0, 31,  0, 33,  0, 35,  0, 37,  0, 39,  0, 41,  0, 43,\n",
       "        0, 45,  0, 47,  0, 49,  0])"
      ]
     },
     "execution_count": 53,
     "metadata": {},
     "output_type": "execute_result"
    }
   ],
   "source": [
    "np.where(pap%2==1,pap,0)"
   ]
  },
  {
   "cell_type": "code",
   "execution_count": null,
   "id": "4d31533b",
   "metadata": {},
   "outputs": [],
   "source": []
  }
 ],
 "metadata": {
  "kernelspec": {
   "display_name": "Python 3 (ipykernel)",
   "language": "python",
   "name": "python3"
  },
  "language_info": {
   "codemirror_mode": {
    "name": "ipython",
    "version": 3
   },
   "file_extension": ".py",
   "mimetype": "text/x-python",
   "name": "python",
   "nbconvert_exporter": "python",
   "pygments_lexer": "ipython3",
   "version": "3.10.6"
  }
 },
 "nbformat": 4,
 "nbformat_minor": 5
}
